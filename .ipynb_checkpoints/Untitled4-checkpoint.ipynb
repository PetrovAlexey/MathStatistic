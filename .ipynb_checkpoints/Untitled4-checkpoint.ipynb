{
 "cells": [
  {
   "cell_type": "code",
   "execution_count": 15,
   "metadata": {},
   "outputs": [],
   "source": [
    "%matplotlib inline  \n",
    "import scipy.stats as st\n",
    "import numpy as np\n",
    "import matplotlib.pyplot as plt\n",
    "import math\n",
    "import statsmodels.api as sm"
   ]
  },
  {
   "cell_type": "code",
   "execution_count": 2,
   "metadata": {},
   "outputs": [],
   "source": [
    "g = 1.0 #параметр распредения\n",
    "a = 0.0\n",
    "norm = st.norm(loc=a, scale=g)\n",
    "sample = norm.rvs(size=1000)"
   ]
  },
  {
   "cell_type": "code",
   "execution_count": 11,
   "metadata": {},
   "outputs": [
    {
     "name": "stdout",
     "output_type": "stream",
     "text": [
      "1.030400241151\n"
     ]
    }
   ],
   "source": [
    "stat1_a = np.zeros(1001)\n",
    "stat1_g = np.zeros(1001)\n",
    "k = 2\n",
    "for i in range(1,1001):\n",
    "    stat1_a[i] = np.mean(sample[:i])\n",
    "    m_k = [(z)**(k) for z in sample[:i]]\n",
    "    mom_k = np.sum(m_k)/i\n",
    "    stat1_g[i] = mom_k - stat1_a[i]**2\n",
    "print (stat1_g[1000])"
   ]
  },
  {
   "cell_type": "markdown",
   "metadata": {},
   "source": [
    "Параметрический бутстрап"
   ]
  },
  {
   "cell_type": "code",
   "execution_count": 28,
   "metadata": {},
   "outputs": [
    {
     "name": "stdout",
     "output_type": "stream",
     "text": [
      "0.013371766079822796\n",
      "331446.9587580651\n"
     ]
    }
   ],
   "source": [
    "boot_sample = np.zeros((1001,1000))\n",
    "boot_stat1_a = np.zeros(1001)\n",
    "boot_stat1_g = np.zeros(1001)\n",
    "for i in range(1,1001):\n",
    "    boot_norm = st.norm(loc=stat1_a[i], scale=stat1_g[i])\n",
    "    boot_sample[i] = boot_norm.rvs(size=1000)\n",
    "    boot_stat1_a[i] = np.mean(boot_sample[i])\n",
    "    m_k = [(z)**(2) for z in boot_sample[i]]\n",
    "    mom_k = np.sum(m_k)/i\n",
    "    boot_stat1_g[i] = mom_k - boot_stat1_a[i]**2\n",
    "s_k = [(z)**(2) for z in boot_stat1_a]\n",
    "smom_k = np.sum(s_k)/i\n",
    "disp_boot_stat1_a = smom_k - np.mean(boot_stat1_a)\n",
    "\n",
    "s_kg = [(z)**(2) for z in boot_stat1_g]\n",
    "smom_kg = np.sum(s_kg)/i\n",
    "disp_boot_stat1_g = smom_kg - np.mean(boot_stat1_g)\n",
    "\n",
    "print(disp_boot_stat1_a)\n",
    "\n",
    "print(disp_boot_stat1_g)"
   ]
  },
  {
   "cell_type": "code",
   "execution_count": null,
   "metadata": {},
   "outputs": [],
   "source": []
  },
  {
   "cell_type": "markdown",
   "metadata": {},
   "source": [
    "Непараметрический бутстрап"
   ]
  },
  {
   "cell_type": "code",
   "execution_count": 32,
   "metadata": {},
   "outputs": [
    {
     "name": "stdout",
     "output_type": "stream",
     "text": [
      "-0.24842438278108064\n",
      "1072.904078928278\n"
     ]
    }
   ],
   "source": [
    "npboot_sample = np.zeros((1001, 1000))\n",
    "npboot_stat1_a = np.zeros(1001)\n",
    "npboot_stat1_g = np.zeros(1001)\n",
    "for i in range(1,1001):\n",
    "    ecdf = sm.distributions.ECDF(sample[:i])\n",
    "    x = np.linspace(min(sample[:i]), max(sample[:i]), 1000)\n",
    "    npboot_sample[i] = ecdf(x)\n",
    "    npboot_stat1_a[i] = np.mean(npboot_sample[i])\n",
    "    m_k = [(z)**(2) for z in npboot_sample[i]]\n",
    "    mom_k = np.sum(m_k)/i\n",
    "    npboot_stat1_g[i] = mom_k - npboot_stat1_a[i]**2\n",
    "s_k = [(z)**(2) for z in npboot_stat1_a]\n",
    "smom_k = np.sum(s_k)/i\n",
    "npdisp_boot_stat1_a = smom_k - np.mean(npboot_stat1_a)\n",
    "\n",
    "s_kg = [(z)**(2) for z in npboot_stat1_g]\n",
    "smom_kg = np.sum(s_kg)/i\n",
    "npdisp_boot_stat1_g = smom_kg - np.mean(npboot_stat1_g)\n",
    "\n",
    "print(npdisp_boot_stat1_a)\n",
    "\n",
    "print(npdisp_boot_stat1_g)"
   ]
  },
  {
   "cell_type": "code",
   "execution_count": null,
   "metadata": {},
   "outputs": [],
   "source": []
  },
  {
   "cell_type": "code",
   "execution_count": null,
   "metadata": {},
   "outputs": [],
   "source": []
  }
 ],
 "metadata": {
  "kernelspec": {
   "display_name": "Python 3",
   "language": "python",
   "name": "python3"
  },
  "language_info": {
   "codemirror_mode": {
    "name": "ipython",
    "version": 3
   },
   "file_extension": ".py",
   "mimetype": "text/x-python",
   "name": "python",
   "nbconvert_exporter": "python",
   "pygments_lexer": "ipython3",
   "version": "3.6.5"
  }
 },
 "nbformat": 4,
 "nbformat_minor": 2
}
