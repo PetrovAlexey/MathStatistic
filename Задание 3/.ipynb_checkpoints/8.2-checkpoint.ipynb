{
 "cells": [
  {
   "cell_type": "markdown",
   "metadata": {},
   "source": [
    "## Задача 8.2"
   ]
  },
  {
   "cell_type": "code",
   "execution_count": 1,
   "metadata": {},
   "outputs": [],
   "source": [
    "%matplotlib inline  \n",
    "import scipy.stats as st\n",
    "import numpy as np\n",
    "import matplotlib.pyplot as plt\n",
    "import math\n",
    "import statsmodels.api as sm\n",
    "import csv"
   ]
  },
  {
   "cell_type": "code",
   "execution_count": 5,
   "metadata": {},
   "outputs": [],
   "source": [
    "data = np.genfromtxt('Regression.csv')"
   ]
  },
  {
   "cell_type": "markdown",
   "metadata": {},
   "source": [
    "Задача аналогична теоретической задаче $9.2$. Сведем к линейной модели. Рассмотреть разности вида $Y_{i} = X_{i+1} - X_i = \\beta_2 + \\varepsilon_i$ для $i > 0$. А также $Y_{0} = X_{0} = \\beta_1 + \\varepsilon_0$. Значение $Y_i$ это расстояние, которое проезжает трамвай за $i$-ую секунду.\n",
    "Найдем оценку коэффициентов линейной регрессии методом наименьших квадратов:\n",
    "\n",
    "- $\\hat{\\theta} = \\begin{pmatrix} \\beta_1 \\\\ \\beta_2 \\end{pmatrix} $ \n",
    "- $\\hat{\\theta} = (Z^TZ)^{-1}Z^TY$, где $Y$ - вектoр данных\n",
    "- $Z =  \\begin{pmatrix} 1 \\  0 \\\\ 0 \\ 1 \\\\ ... \\\\ 0 \\ 1 \\end{pmatrix}$"
   ]
  },
  {
   "cell_type": "markdown",
   "metadata": {},
   "source": [
    "Решением является:\n",
    "- $\\hat{\\beta_1} = Y_0$\n",
    "- $\\hat{\\beta_2} = \\overline{Y_i}$, где $i = \\overline{1,n}$"
   ]
  },
  {
   "cell_type": "markdown",
   "metadata": {},
   "source": [
    "Оптимальная оценка $\\sigma^2$:\n",
    "$\\hat{\\sigma^2} = \\frac{1}{n - k}||Y - Z\\hat{\\theta}||^2 $\n",
    "- $\\hat{\\sigma^2} = \\frac{1}{n - 2}\\sum_{i = 1}^n{(Y_i - \\overline{Y})^2} = \\frac{n}{n-2}s^2$"
   ]
  },
  {
   "cell_type": "code",
   "execution_count": 16,
   "metadata": {},
   "outputs": [
    {
     "name": "stdout",
     "output_type": "stream",
     "text": [
      "20.6165\n",
      "12.0410442\n",
      "4.332605920066415\n",
      "4.263332560352469\n"
     ]
    }
   ],
   "source": [
    "y = np.array([data[0]])\n",
    "for i in range(1, len(data)):\n",
    "    y = np.append(y, data[i] - data[i - 1])\n",
    "    \n",
    "beta_1 = data[0]\n",
    "beta_2 = np.mean(y)\n",
    "sigma = (len(data)) * st.moment(y, moment=2) / (len(data) - 1)\n",
    "sigma2 = sum((data[i] - data[i - 1] - (data[-1] - data[0])/len(data))**2 for i in range(1, len(data))) / (len(data) - 2)\n",
    "print(beta_1)\n",
    "print(beta_2)\n",
    "print(sigma)\n",
    "print(sigma2)"
   ]
  },
  {
   "cell_type": "code",
   "execution_count": null,
   "metadata": {},
   "outputs": [],
   "source": []
  }
 ],
 "metadata": {
  "kernelspec": {
   "display_name": "Python 3",
   "language": "python",
   "name": "python3"
  },
  "language_info": {
   "codemirror_mode": {
    "name": "ipython",
    "version": 3
   },
   "file_extension": ".py",
   "mimetype": "text/x-python",
   "name": "python",
   "nbconvert_exporter": "python",
   "pygments_lexer": "ipython3",
   "version": "3.6.5"
  }
 },
 "nbformat": 4,
 "nbformat_minor": 2
}
