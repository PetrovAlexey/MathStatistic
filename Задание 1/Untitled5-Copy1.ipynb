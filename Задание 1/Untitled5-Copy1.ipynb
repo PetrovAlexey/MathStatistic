{
 "cells": [
  {
   "cell_type": "code",
   "execution_count": 2,
   "metadata": {},
   "outputs": [],
   "source": [
    "%matplotlib inline  \n",
    "import scipy.stats as st\n",
    "import numpy as np\n",
    "import matplotlib.pyplot as plt\n",
    "import math\n",
    "import statsmodels.api as sm\n",
    "import csv"
   ]
  },
  {
   "cell_type": "code",
   "execution_count": 4,
   "metadata": {},
   "outputs": [],
   "source": [
    "from numpy import genfromtxt\n",
    "my_data = genfromtxt('Cauchy.csv', delimiter=',')"
   ]
  },
  {
   "cell_type": "code",
   "execution_count": 9,
   "metadata": {},
   "outputs": [
    {
     "name": "stdout",
     "output_type": "stream",
     "text": [
      "77.17\n"
     ]
    }
   ],
   "source": [
    "print(np.float64(my_data[1]))"
   ]
  },
  {
   "cell_type": "code",
   "execution_count": 16,
   "metadata": {},
   "outputs": [],
   "source": [
    "def my_func(x,y):\n",
    "    return x**2+y**2"
   ]
  },
  {
   "cell_type": "code",
   "execution_count": 19,
   "metadata": {},
   "outputs": [],
   "source": [
    "x = range(-5, 5)\n",
    "y = range(-10,10)\n",
    "\n",
    "xx, yy = np.meshgrid(x, y)\n",
    "results = my_func(xx, yy)"
   ]
  },
  {
   "cell_type": "code",
   "execution_count": 20,
   "metadata": {},
   "outputs": [
    {
     "name": "stdout",
     "output_type": "stream",
     "text": [
      "[[125 116 109 104 101 100 101 104 109 116]\n",
      " [106  97  90  85  82  81  82  85  90  97]\n",
      " [ 89  80  73  68  65  64  65  68  73  80]\n",
      " [ 74  65  58  53  50  49  50  53  58  65]\n",
      " [ 61  52  45  40  37  36  37  40  45  52]\n",
      " [ 50  41  34  29  26  25  26  29  34  41]\n",
      " [ 41  32  25  20  17  16  17  20  25  32]\n",
      " [ 34  25  18  13  10   9  10  13  18  25]\n",
      " [ 29  20  13   8   5   4   5   8  13  20]\n",
      " [ 26  17  10   5   2   1   2   5  10  17]\n",
      " [ 25  16   9   4   1   0   1   4   9  16]\n",
      " [ 26  17  10   5   2   1   2   5  10  17]\n",
      " [ 29  20  13   8   5   4   5   8  13  20]\n",
      " [ 34  25  18  13  10   9  10  13  18  25]\n",
      " [ 41  32  25  20  17  16  17  20  25  32]\n",
      " [ 50  41  34  29  26  25  26  29  34  41]\n",
      " [ 61  52  45  40  37  36  37  40  45  52]\n",
      " [ 74  65  58  53  50  49  50  53  58  65]\n",
      " [ 89  80  73  68  65  64  65  68  73  80]\n",
      " [106  97  90  85  82  81  82  85  90  97]]\n"
     ]
    }
   ],
   "source": [
    "print(results)"
   ]
  },
  {
   "cell_type": "code",
   "execution_count": null,
   "metadata": {},
   "outputs": [],
   "source": []
  }
 ],
 "metadata": {
  "kernelspec": {
   "display_name": "Python 3",
   "language": "python",
   "name": "python3"
  },
  "language_info": {
   "codemirror_mode": {
    "name": "ipython",
    "version": 3
   },
   "file_extension": ".py",
   "mimetype": "text/x-python",
   "name": "python",
   "nbconvert_exporter": "python",
   "pygments_lexer": "ipython3",
   "version": "3.6.5"
  }
 },
 "nbformat": 4,
 "nbformat_minor": 2
}
