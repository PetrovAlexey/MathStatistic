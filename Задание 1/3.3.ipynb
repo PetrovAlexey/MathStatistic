{
 "cells": [
  {
   "cell_type": "markdown",
   "metadata": {},
   "source": [
    "## Задача 3.3\n",
    "Поиск параметра формы $\\gamma$ в распределении Вейбулла"
   ]
  },
  {
   "cell_type": "code",
   "execution_count": 106,
   "metadata": {},
   "outputs": [],
   "source": [
    "%matplotlib inline  \n",
    "import scipy.stats as st\n",
    "import numpy as np\n",
    "import matplotlib.pyplot as plt\n",
    "import math\n",
    "import statsmodels.api as sm\n",
    "import csv"
   ]
  },
  {
   "cell_type": "markdown",
   "metadata": {},
   "source": [
    "Так как в выборке встречаются нули, а их значение из выборки принимается с нулевой вероятностью, то \n",
    "заменим нули выборки на минимальное не нулевое значение выборки"
   ]
  },
  {
   "cell_type": "code",
   "execution_count": 107,
   "metadata": {},
   "outputs": [],
   "source": [
    "from numpy import genfromtxt\n",
    "my_data = genfromtxt('Weibull.csv', delimiter=',')\n",
    "minimum = np.amin(my_data[my_data > 0])\n",
    "my_data[my_data == 0] = minimum"
   ]
  },
  {
   "cell_type": "markdown",
   "metadata": {},
   "source": [
    "Введем функцию вычисляющую логарифмическую функцию правдоподобия для одного наблюдения"
   ]
  },
  {
   "cell_type": "code",
   "execution_count": 108,
   "metadata": {},
   "outputs": [],
   "source": [
    "def my_func(x, t):\n",
    "    return st.exponweib.logpdf(x, 1, t, loc=0, scale=1)"
   ]
  },
  {
   "cell_type": "markdown",
   "metadata": {},
   "source": [
    "### Оцениваем параметр на выборке по 4 годам"
   ]
  },
  {
   "cell_type": "markdown",
   "metadata": {},
   "source": [
    "Будем считать по логарифмической сетке $[-2, 2]$ с шагом $0.001$ на выборке по 4 годам"
   ]
  },
  {
   "cell_type": "code",
   "execution_count": 109,
   "metadata": {},
   "outputs": [
    {
     "name": "stdout",
     "output_type": "stream",
     "text": [
      "Максимум логарифмической функции правдоподобия: -2025.9740355717613\n",
      "На каком параметре достигается максимум на логарифмической сетке: -0.44700000000017104\n",
      "Оценка парамета гамма: 0.3572728381517882\n"
     ]
    }
   ],
   "source": [
    "max_res=-math.inf\n",
    "max_i = 0\n",
    "\n",
    "for i in np.arange(-2, 2, 0.001):\n",
    "    results = np.sum(my_func(my_data[:1460], 10**i))\n",
    "    if results > max_res:\n",
    "        max_res = results\n",
    "        max_i = i\n",
    "print(\"Максимум логарифмической функции правдоподобия: \" + str(max_res))\n",
    "print(\"На каком параметре достигается максимум на логарифмической сетке: \" + str(max_i))\n",
    "print(\"Оценка парамета гамма: \" + str(10**max_i))"
   ]
  },
  {
   "cell_type": "markdown",
   "metadata": {},
   "source": [
    "В результате получили оценку параметра $\\gamma = 0.357$ на которой достигается максимум функции правдоподобия"
   ]
  },
  {
   "cell_type": "markdown",
   "metadata": {},
   "source": [
    "### Оцениваем параметр по всей выборке"
   ]
  },
  {
   "cell_type": "markdown",
   "metadata": {},
   "source": [
    "Будем считать по логарифмической сетке $[-2, 2]$ с шагом $0.001$ на всей выборке"
   ]
  },
  {
   "cell_type": "code",
   "execution_count": 110,
   "metadata": {},
   "outputs": [
    {
     "name": "stdout",
     "output_type": "stream",
     "text": [
      "Максимум логарифмической функции правдоподобия: -5056.799964821297\n",
      "На каком параметре достигается максимум на логарифмической сетке: -0.4520000000001705\n",
      "Оценка парамета гамма: 0.3531831697918183\n"
     ]
    }
   ],
   "source": [
    "max_res=-math.inf\n",
    "max_i = 0\n",
    "\n",
    "for i in np.arange(-2, 2, 0.001):\n",
    "    results = np.sum(my_func(my_data, 10**i))\n",
    "    if results > max_res:\n",
    "        max_res = results\n",
    "        max_i = i\n",
    "print(\"Максимум логарифмической функции правдоподобия: \" + str(max_res))\n",
    "print(\"На каком параметре достигается максимум на логарифмической сетке: \" + str(max_i))\n",
    "print(\"Оценка парамета гамма: \" + str(10**max_i))"
   ]
  },
  {
   "cell_type": "markdown",
   "metadata": {},
   "source": [
    "В результате получили оценку параметра $\\gamma = 0.353$ на которой достигается максимум функции правдоподобия"
   ]
  },
  {
   "cell_type": "markdown",
   "metadata": {},
   "source": [
    "### Вывод\n",
    "С помощью метода максимального правдоподобия был оценен параметр формы для распределения Вейбулла.\n",
    "На 4-летней и полной выборке получился приблизительно одиннаковый результат."
   ]
  }
 ],
 "metadata": {
  "kernelspec": {
   "display_name": "Python 3",
   "language": "python",
   "name": "python3"
  },
  "language_info": {
   "codemirror_mode": {
    "name": "ipython",
    "version": 3
   },
   "file_extension": ".py",
   "mimetype": "text/x-python",
   "name": "python",
   "nbconvert_exporter": "python",
   "pygments_lexer": "ipython3",
   "version": "3.6.5"
  }
 },
 "nbformat": 4,
 "nbformat_minor": 2
}
