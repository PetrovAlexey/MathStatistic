{
 "cells": [
  {
   "cell_type": "markdown",
   "metadata": {},
   "source": [
    "## Задача 3.2"
   ]
  },
  {
   "cell_type": "code",
   "execution_count": 84,
   "metadata": {},
   "outputs": [],
   "source": [
    "%matplotlib inline  \n",
    "import scipy.stats as st\n",
    "import numpy as np\n",
    "import matplotlib.pyplot as plt\n",
    "import math\n",
    "import statsmodels.api as sm\n",
    "import csv"
   ]
  },
  {
   "cell_type": "markdown",
   "metadata": {},
   "source": [
    "Загружаем выборку из файла и запиваем в 'my_data'"
   ]
  },
  {
   "cell_type": "code",
   "execution_count": 85,
   "metadata": {},
   "outputs": [],
   "source": [
    "from numpy import genfromtxt\n",
    "my_data = genfromtxt('Cauchy.csv', delimiter=',')"
   ]
  },
  {
   "cell_type": "markdown",
   "metadata": {},
   "source": [
    "Введем функцию вычисляющую логарифмическую функцию правдоподобия для одного наблюдения"
   ]
  },
  {
   "cell_type": "code",
   "execution_count": 86,
   "metadata": {},
   "outputs": [],
   "source": [
    "def my_func(x, t):\n",
    "    return st.cauchy.logpdf(x, loc=t, scale=1)"
   ]
  },
  {
   "cell_type": "markdown",
   "metadata": {},
   "source": [
    "### Оцениваем параметр на половине выборке"
   ]
  },
  {
   "cell_type": "markdown",
   "metadata": {},
   "source": [
    "Будем считать по сетке $[-1000,1000]$ с шагом $0.1$"
   ]
  },
  {
   "cell_type": "code",
   "execution_count": 87,
   "metadata": {},
   "outputs": [
    {
     "name": "stdout",
     "output_type": "stream",
     "text": [
      "Максимум функции правдоподобия: -1145.9117882517576\n",
      "На каком параметре достигается максимум: 78.10000000024502\n"
     ]
    }
   ],
   "source": [
    "max_res=-1000000\n",
    "max_i = 0\n",
    "for i in np.arange(-1000,1000,0.1):\n",
    "    results = np.sum(my_func(my_data[:500], i))\n",
    "    if results > max_res:\n",
    "        max_res = results\n",
    "        max_i = i\n",
    "print(\"Максимум функции правдоподобия: \" + str(max_res))\n",
    "print(\"На каком параметре достигается максимум: \" + str(max_i))"
   ]
  },
  {
   "cell_type": "markdown",
   "metadata": {},
   "source": [
    "Заметим что в выборке преобладает значение в районе 60 - 80\n",
    "Будем считать по сетке $[-200,200]$ с шагом $0.01$"
   ]
  },
  {
   "cell_type": "code",
   "execution_count": 88,
   "metadata": {},
   "outputs": [
    {
     "name": "stdout",
     "output_type": "stream",
     "text": [
      "Максимум функции правдоподобия: -1145.8003766209804\n",
      "На каком параметре достигается максимум: 78.12999999974704\n"
     ]
    }
   ],
   "source": [
    "max_res=-1000000\n",
    "max_i = 0\n",
    "for i in np.arange(-200,200,0.01):\n",
    "    results = np.sum(my_func(my_data[:500], i))\n",
    "    if results > max_res:\n",
    "        max_res = results\n",
    "        max_i = i\n",
    "print(\"Максимум функции правдоподобия: \" + str(max_res))\n",
    "print(\"На каком параметре достигается максимум: \" + str(max_i))"
   ]
  },
  {
   "cell_type": "markdown",
   "metadata": {},
   "source": [
    "В результате получили оценку параметра $x_{0} = 78.130$ на которой достигается максимум функции правдоподобия"
   ]
  },
  {
   "cell_type": "markdown",
   "metadata": {},
   "source": [
    "### Оцениваем параметр на всей выборке"
   ]
  },
  {
   "cell_type": "markdown",
   "metadata": {},
   "source": [
    "Будем считать по сетке $[-1000,1000]$ с шагом $0.1$"
   ]
  },
  {
   "cell_type": "code",
   "execution_count": 89,
   "metadata": {},
   "outputs": [
    {
     "name": "stdout",
     "output_type": "stream",
     "text": [
      "Максимум функции правдоподобия: -2485.69664554875\n",
      "На каком параметре достигается максимум: 78.10000000024502\n"
     ]
    }
   ],
   "source": [
    "max_res=-1000000\n",
    "max_i = 0\n",
    "for i in np.arange(-1000,1000,0.1):\n",
    "    results = np.sum(my_func(my_data, i))\n",
    "    if results > max_res:\n",
    "        max_res = results\n",
    "        max_i = i\n",
    "print(\"Максимум функции правдоподобия: \" + str(max_res))\n",
    "print(\"На каком параметре достигается максимум: \" + str(max_i))"
   ]
  },
  {
   "cell_type": "markdown",
   "metadata": {},
   "source": [
    "Заметим что в выборке преобладает значение в районе 60 - 80\n",
    "Будем считать по сетке $[-200,200]$ с шагом $0.01$"
   ]
  },
  {
   "cell_type": "code",
   "execution_count": 90,
   "metadata": {},
   "outputs": [
    {
     "name": "stdout",
     "output_type": "stream",
     "text": [
      "Максимум функции правдоподобия: -2485.427599412627\n",
      "На каком параметре достигается максимум: 78.12999999974704\n"
     ]
    }
   ],
   "source": [
    "max_res=-1000000\n",
    "max_i = 0\n",
    "for i in np.arange(-200,200,0.01):\n",
    "    results = np.sum(my_func(my_data, i))\n",
    "    if results > max_res:\n",
    "        max_res = results\n",
    "        max_i = i\n",
    "print(\"Максимум функции правдоподобия: \" + str(max_res))\n",
    "print(\"На каком параметре достигается максимум: \" + str(max_i))"
   ]
  },
  {
   "cell_type": "markdown",
   "metadata": {},
   "source": [
    "В результате получили оценку параметра $x_{0} = 78.130$ на которой достигается максимум функции правдоподобия"
   ]
  },
  {
   "cell_type": "markdown",
   "metadata": {},
   "source": [
    "### Вывод\n",
    "С помощью метода максимального правдоподобия были найдены оценки параметра сдивга для распределения Коши.\n",
    "На половинной и полной выборке получился одинаковый результат, что может говорить о верной оценке."
   ]
  }
 ],
 "metadata": {
  "kernelspec": {
   "display_name": "Python 3",
   "language": "python",
   "name": "python3"
  },
  "language_info": {
   "codemirror_mode": {
    "name": "ipython",
    "version": 3
   },
   "file_extension": ".py",
   "mimetype": "text/x-python",
   "name": "python",
   "nbconvert_exporter": "python",
   "pygments_lexer": "ipython3",
   "version": "3.6.5"
  }
 },
 "nbformat": 4,
 "nbformat_minor": 2
}
